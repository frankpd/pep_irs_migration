{
 "cells": [
  {
   "cell_type": "code",
   "execution_count": 1,
   "metadata": {},
   "outputs": [],
   "source": [
    "%matplotlib inline\n",
    "import pandas as pd\n",
    "import matplotlib.pyplot as plt\n",
    "import matplotlib.ticker as ticker\n",
    "from matplotlib import colors\n",
    "import numpy as np\n",
    "import pandas.io.formats.format as pf\n",
    "plt.style.use ('seaborn-whitegrid')\n",
    "\n",
    "# display numbers (floats) with thousand separator\n",
    "pd.options.display.float_format = '{:,.0f}'.format\n",
    "\n",
    "# found this hack to format integers for display with thousand separator\n",
    "# https://stackoverflow.com/questions/29663252/format-pandas-integers-for-display?answertab=active#tab-top\n",
    "class IntArrayFormatter(pf.GenericArrayFormatter):\n",
    "    def _format_strings(self):\n",
    "        formatter = self.formatter or '{:,d}'.format\n",
    "        fmt_values = [formatter(x) for x in self.values]\n",
    "        return fmt_values\n",
    "pf.IntArrayFormatter = IntArrayFormatter"
   ]
  },
  {
   "cell_type": "code",
   "execution_count": 2,
   "metadata": {},
   "outputs": [
    {
     "data": {
      "text/html": [
       "<div>\n",
       "<style scoped>\n",
       "    .dataframe tbody tr th:only-of-type {\n",
       "        vertical-align: middle;\n",
       "    }\n",
       "\n",
       "    .dataframe tbody tr th {\n",
       "        vertical-align: top;\n",
       "    }\n",
       "\n",
       "    .dataframe thead th {\n",
       "        text-align: right;\n",
       "    }\n",
       "</style>\n",
       "<table border=\"1\" class=\"dataframe\">\n",
       "  <thead>\n",
       "    <tr style=\"text-align: right;\">\n",
       "      <th></th>\n",
       "      <th>2016</th>\n",
       "      <th>2017</th>\n",
       "      <th>2018</th>\n",
       "    </tr>\n",
       "  </thead>\n",
       "  <tbody>\n",
       "    <tr>\n",
       "      <th>1</th>\n",
       "      <td>NYC</td>\n",
       "      <td>NYC</td>\n",
       "      <td>PHL</td>\n",
       "    </tr>\n",
       "    <tr>\n",
       "      <th>2</th>\n",
       "      <td>LA</td>\n",
       "      <td>LA</td>\n",
       "      <td>LA</td>\n",
       "    </tr>\n",
       "    <tr>\n",
       "      <th>3</th>\n",
       "      <td>PHL</td>\n",
       "      <td>CHI</td>\n",
       "      <td>CHI</td>\n",
       "    </tr>\n",
       "    <tr>\n",
       "      <th>4</th>\n",
       "      <td>CHI</td>\n",
       "      <td>PHL</td>\n",
       "      <td>NYC</td>\n",
       "    </tr>\n",
       "  </tbody>\n",
       "</table>\n",
       "</div>"
      ],
      "text/plain": [
       "  2016 2017 2018\n",
       "1  NYC  NYC  PHL\n",
       "2   LA   LA   LA\n",
       "3  PHL  CHI  CHI\n",
       "4  CHI  PHL  NYC"
      ]
     },
     "execution_count": 2,
     "metadata": {},
     "output_type": "execute_result"
    }
   ],
   "source": [
    "data = {'2016':['NYC','LA','PHL','CHI'], '2017':['NYC','LA','CHI','PHL'],'2018':['PHL','LA','CHI','NYC']}\n",
    "df = pd.DataFrame(data, index =[str(i) for i in range(1,5)]) \n",
    "df"
   ]
  },
  {
   "cell_type": "code",
   "execution_count": 3,
   "metadata": {},
   "outputs": [
    {
     "data": {
      "text/plain": [
       "array([[0, 0, 0],\n",
       "       [0, 0, 0],\n",
       "       [0, 0, 0],\n",
       "       [0, 0, 0]])"
      ]
     },
     "execution_count": 3,
     "metadata": {},
     "output_type": "execute_result"
    }
   ],
   "source": [
    "vals=np.full(df.shape,0)\n",
    "vals"
   ]
  },
  {
   "cell_type": "code",
   "execution_count": 4,
   "metadata": {},
   "outputs": [
    {
     "data": {
      "text/plain": [
       "[[0, 0, 0], [0, 0, 0], [0, 0, 0], [0, 0, 0]]"
      ]
     },
     "execution_count": 4,
     "metadata": {},
     "output_type": "execute_result"
    }
   ],
   "source": [
    "val_list=[[0 for i in range(df.shape[1])] for j in range(df.shape[0])]\n",
    "val_list"
   ]
  },
  {
   "cell_type": "code",
   "execution_count": 5,
   "metadata": {},
   "outputs": [
    {
     "name": "stdout",
     "output_type": "stream",
     "text": [
      "0 0\n",
      "0 1\n",
      "0 2\n",
      "1 0\n",
      "1 1\n",
      "1 2\n",
      "2 0\n",
      "2 1\n",
      "2 2\n",
      "3 0\n",
      "3 1\n",
      "3 2\n"
     ]
    }
   ],
   "source": [
    "for i,v1 in enumerate(val_list):\n",
    "    for j,v2 in enumerate(v1):\n",
    "        print(i,j)"
   ]
  },
  {
   "cell_type": "code",
   "execution_count": 6,
   "metadata": {},
   "outputs": [
    {
     "data": {
      "text/plain": [
       "2016    NYC\n",
       "Name: 1, dtype: object"
      ]
     },
     "execution_count": 6,
     "metadata": {},
     "output_type": "execute_result"
    }
   ],
   "source": [
    "df.iloc[0,[0]]\n",
    "        "
   ]
  },
  {
   "cell_type": "code",
   "execution_count": 7,
   "metadata": {},
   "outputs": [
    {
     "data": {
      "text/plain": [
       "2018    LA\n",
       "Name: 2, dtype: object"
      ]
     },
     "execution_count": 7,
     "metadata": {},
     "output_type": "execute_result"
    }
   ],
   "source": [
    "df.iloc[1,[2]]"
   ]
  },
  {
   "cell_type": "code",
   "execution_count": 8,
   "metadata": {},
   "outputs": [
    {
     "name": "stdout",
     "output_type": "stream",
     "text": [
      "0 0\n",
      "2016    NYC\n",
      "Name: 1, dtype: object\n",
      "0 1\n",
      "2017    NYC\n",
      "Name: 1, dtype: object\n",
      "0 2\n",
      "2018    PHL\n",
      "Name: 1, dtype: object\n",
      "1 0\n",
      "2016    LA\n",
      "Name: 2, dtype: object\n",
      "1 1\n",
      "2017    LA\n",
      "Name: 2, dtype: object\n",
      "1 2\n",
      "2018    LA\n",
      "Name: 2, dtype: object\n",
      "2 0\n",
      "2016    PHL\n",
      "Name: 3, dtype: object\n",
      "2 1\n",
      "2017    CHI\n",
      "Name: 3, dtype: object\n",
      "2 2\n",
      "2018    CHI\n",
      "Name: 3, dtype: object\n",
      "3 0\n",
      "2016    CHI\n",
      "Name: 4, dtype: object\n",
      "3 1\n",
      "2017    PHL\n",
      "Name: 4, dtype: object\n",
      "3 2\n",
      "2018    NYC\n",
      "Name: 4, dtype: object\n"
     ]
    }
   ],
   "source": [
    "for i,v1 in enumerate(val_list):\n",
    "    for j,v2 in enumerate(v1):\n",
    "        print (i,j)\n",
    "        print (df.iloc[i,[j]])"
   ]
  },
  {
   "cell_type": "code",
   "execution_count": 9,
   "metadata": {},
   "outputs": [
    {
     "data": {
      "text/plain": [
       "[[0, 0, 1], [0, 0, 0], [0, 1, 0], [0, -1, -1]]"
      ]
     },
     "execution_count": 9,
     "metadata": {},
     "output_type": "execute_result"
    }
   ],
   "source": [
    "change=[[0,0,1],[0,0,0],[0,1,0],[0,-1,-1]]\n",
    "change"
   ]
  },
  {
   "cell_type": "code",
   "execution_count": 10,
   "metadata": {},
   "outputs": [
    {
     "data": {
      "text/plain": [
       "array([[ 0,  0,  1],\n",
       "       [ 0,  0,  0],\n",
       "       [ 0,  1,  0],\n",
       "       [ 0, -1, -1]])"
      ]
     },
     "execution_count": 10,
     "metadata": {},
     "output_type": "execute_result"
    }
   ],
   "source": [
    "achange=np.array([[0,0,1],[0,0,0],[0,1,0],[0,-1,-1]])\n",
    "achange"
   ]
  },
  {
   "cell_type": "code",
   "execution_count": null,
   "metadata": {},
   "outputs": [],
   "source": []
  },
  {
   "cell_type": "code",
   "execution_count": 11,
   "metadata": {},
   "outputs": [
    {
     "data": {
      "text/plain": [
       "array([['NYC', 'NYC', 'PHL'],\n",
       "       ['LA', 'LA', 'LA'],\n",
       "       ['PHL', 'CHI', 'CHI'],\n",
       "       ['CHI', 'PHL', 'NYC']], dtype='<U3')"
      ]
     },
     "execution_count": 11,
     "metadata": {},
     "output_type": "execute_result"
    }
   ],
   "source": [
    "alabels=np.array([['NYC','NYC','PHL'],['LA','LA','LA'],['PHL','CHI','CHI'],['CHI','PHL','NYC']])\n",
    "alabels"
   ]
  },
  {
   "cell_type": "code",
   "execution_count": 12,
   "metadata": {},
   "outputs": [
    {
     "data": {
      "image/png": "[encoded data removed]",
      "text/plain": [
       "<matplotlib.figure.Figure at 0x7fd8d1697c88>"
      ]
     },
     "metadata": {},
     "output_type": "display_data"
    }
   ],
   "source": [
    "g=plt.pcolor(val_list, cmap='Blues', edgecolors='k')\n",
    "plt.yticks(np.arange(0.5, len(df.index), 1), df.index)\n",
    "plt.xticks(np.arange(0.5, len(df.columns), 1), df.columns)\n",
    "\n",
    "def show_values(pc, fmt=\"%d\", **kw):\n",
    "    pc.update_scalarmappable()\n",
    "    ax = pc.axes\n",
    "    for p, color, value in zip(pc.get_paths(), pc.get_facecolors(), pc.get_array()):\n",
    "        x, y = p.vertices[:-2, :].mean(0)\n",
    "        if np.all(color[:3] > 0.5):\n",
    "            color = (0.0, 0.0, 0.0)\n",
    "        else:\n",
    "            color = (1.0, 1.0, 1.0)\n",
    "        ax.text(x, y, fmt % value, ha=\"center\", va=\"center\", color=color, **kw)\n",
    "\n",
    "show_values(g)\n",
    "plt.show()"
   ]
  },
  {
   "cell_type": "code",
   "execution_count": 13,
   "metadata": {},
   "outputs": [
    {
     "data": {
      "text/plain": [
       "4"
      ]
     },
     "execution_count": 13,
     "metadata": {},
     "output_type": "execute_result"
    }
   ],
   "source": [
    "df.shape[0]"
   ]
  },
  {
   "cell_type": "code",
   "execution_count": 14,
   "metadata": {},
   "outputs": [],
   "source": [
    "#mycolors = colors.ListedColormap(['#73a6dc','#e4e2e1','#98d669'])\n",
    "mycolors = colors.ListedColormap(['lightblue','ghostwhite','palegreen'])"
   ]
  },
  {
   "cell_type": "code",
   "execution_count": 15,
   "metadata": {},
   "outputs": [
    {
     "data": {
      "image/png": "[encoded data removed]",
      "text/plain": [
       "<matplotlib.figure.Figure at 0x7fd8d16972b0>"
      ]
     },
     "metadata": {},
     "output_type": "display_data"
    }
   ],
   "source": [
    "ylabels=['1st','2nd','3rd','4th']\n",
    "xlabels=['2016','2017','2018']\n",
    "\n",
    "ax = plt.pcolor(achange,cmap=mycolors,edgecolors='k',linewidths=0.5)\n",
    "\n",
    "plt.yticks(np.arange(0.5, len(ylabels), 1), ylabels)\n",
    "plt.xticks(np.arange(0.5, len(xlabels), 1), xlabels)\n",
    "\n",
    "for y in range(achange.shape[0]):\n",
    "    for x in range(achange.shape[1]):\n",
    "        plt.text(x + 0.5, y + 0.5, '%s' % alabels[y, x],\n",
    "                 horizontalalignment='center',\n",
    "                 verticalalignment='center',\n",
    "                 fontsize=12,\n",
    "                 )\n",
    "plt.colorbar()\n",
    "plt.gca().invert_yaxis()\n",
    "plt.xticks(fontsize=14)\n",
    "plt.yticks(fontsize=14)\n",
    "\n",
    "plt.show()"
   ]
  },
  {
   "cell_type": "code",
   "execution_count": 16,
   "metadata": {},
   "outputs": [
    {
     "data": {
      "image/png": "[encoded data removed]",
      "text/plain": [
       "<matplotlib.figure.Figure at 0x7fd8cf5be160>"
      ]
     },
     "metadata": {},
     "output_type": "display_data"
    }
   ],
   "source": [
    "fig, ax = plt.subplots()\n",
    "im = ax.imshow(achange, cmap=mycolors)\n",
    "\n",
    "# We want to show all ticks...\n",
    "ax.set_xticks(np.arange(len(xlabels)))\n",
    "ax.set_yticks(np.arange(len(ylabels)))\n",
    "# ... and label them with the respective list entries\n",
    "ax.set_xticklabels(xlabels)\n",
    "ax.set_yticklabels(ylabels)\n",
    "\n",
    "# Create white grid.\n",
    "ax.set_xticks(np.arange(achange.shape[1]+1)-.5, minor=True)\n",
    "ax.set_yticks(np.arange(achange.shape[0]+1)-.5, minor=True)\n",
    "ax.grid(which=\"minor\", color=\"w\", linestyle='-', linewidth=5)\n",
    "ax.grid(which=\"major\",visible=False)\n",
    "\n",
    "cbar = ax.figure.colorbar(im, ax=ax, ticks=[1,0,-1])\n",
    "cbar.ax.set_yticklabels(['Increased','No Change','Decreased'])\n",
    "\n",
    "# Loop over data dimensions and create text annotations.\n",
    "for i in range(len(ylabels)):\n",
    "    for j in range(len(xlabels)):\n",
    "        text = ax.text(j, i, alabels[i, j],\n",
    "                       ha=\"center\", va=\"center\", color=\"k\", fontsize=12)\n",
    "\n",
    "ax.set_title(\"Change in Rank Over Time\")\n",
    "plt.xticks(fontsize=12)\n",
    "plt.yticks(fontsize=12)\n",
    "fig.tight_layout()\n",
    "plt.show()"
   ]
  },
  {
   "cell_type": "code",
   "execution_count": 17,
   "metadata": {},
   "outputs": [
    {
     "data": {
      "image/png": "[encoded data removed]",
      "text/plain": [
       "<matplotlib.figure.Figure at 0x7fd8cf647fd0>"
      ]
     },
     "metadata": {},
     "output_type": "display_data"
    }
   ],
   "source": [
    "data = np.random.rand(5, 4)\n",
    "heatmap = plt.pcolor(data)\n",
    "\n",
    "for y in range(data.shape[0]):\n",
    "    for x in range(data.shape[1]):\n",
    "        plt.text(x + 0.5, y + 0.5, '%.4f' % data[y, x],\n",
    "                 horizontalalignment='center',\n",
    "                 verticalalignment='center',\n",
    "                 )\n",
    "\n",
    "plt.colorbar(heatmap)\n",
    "\n",
    "plt.show()"
   ]
  },
  {
   "cell_type": "code",
   "execution_count": null,
   "metadata": {},
   "outputs": [],
   "source": [
    "data.shape[1]"
   ]
  },
  {
   "cell_type": "code",
   "execution_count": null,
   "metadata": {},
   "outputs": [],
   "source": [
    "fig, ax = plt.subplots()\n",
    "im = ax.imshow(vals)\n",
    "\n",
    "\n",
    "# ... and label them with the respective list entries\n",
    "ax.set_xticklabels(df.columns)\n",
    "ax.set_yticklabels(df.index)\n",
    "\n",
    "ax.set_title(\"Test\")\n",
    "#fig.tight_layout()\n",
    "plt.show()"
   ]
  },
  {
   "cell_type": "code",
   "execution_count": null,
   "metadata": {},
   "outputs": [],
   "source": [
    "data = {'2016':[500,400,300,200], '2017':[600,300,400,200],'2018':[500,200,400,300]}\n",
    "df = pd.DataFrame(data, index =['LA','NYC','PHL','CHI']) \n",
    "df  "
   ]
  },
  {
   "cell_type": "code",
   "execution_count": null,
   "metadata": {},
   "outputs": [],
   "source": [
    "fig, ax = plt.subplots()\n",
    "im = ax.imshow(df)\n",
    "\n",
    "# We want to show all ticks...\n",
    "ax.set_xticks(df.columns)\n",
    "ax.set_yticks(df.index)\n",
    "# ... and label them with the respective list entries\n",
    "ax.set_xticklabels(df.columns)\n",
    "ax.set_yticklabels(df.index)\n",
    "\n",
    "# Rotate the tick labels and set their alignment.\n",
    "plt.setp(ax.get_xticklabels(), rotation=45, ha=\"right\",\n",
    "         rotation_mode=\"anchor\")\n",
    "\n",
    "ax.set_title(\"Test\")\n",
    "fig.tight_layout()\n",
    "plt.show()\n",
    "\n"
   ]
  },
  {
   "cell_type": "code",
   "execution_count": null,
   "metadata": {},
   "outputs": [],
   "source": []
  }
 ],
 "metadata": {
  "kernelspec": {
   "display_name": "Python 3",
   "language": "python",
   "name": "python3"
  },
  "language_info": {
   "codemirror_mode": {
    "name": "ipython",
    "version": 3
   },
   "file_extension": ".py",
   "mimetype": "text/x-python",
   "name": "python",
   "nbconvert_exporter": "python",
   "pygments_lexer": "ipython3",
   "version": "3.6.9"
  }
 },
 "nbformat": 4,
 "nbformat_minor": 2
}
