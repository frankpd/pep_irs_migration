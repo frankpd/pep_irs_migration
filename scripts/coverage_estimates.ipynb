{
 "cells": [
  {
   "cell_type": "markdown",
   "metadata": {},
   "source": [
    "# IRS Migration Coverage Estimates"
   ]
  },
  {
   "cell_type": "markdown",
   "metadata": {},
   "source": [
    "The IRS Migration DB only includes filers who were matched between 2 consecutive years.\n",
    "This notebook compares the total number of filers who filed in a year from a separate IRS report\n",
    "to the number of matched filers in the database and calculates coverage rates for NYC and NY Metro"
   ]
  },
  {
   "cell_type": "code",
   "execution_count": 1,
   "metadata": {},
   "outputs": [],
   "source": [
    "%matplotlib inline\n",
    "import pandas as pd\n",
    "import pandas.io.formats.format as pf\n",
    "import sqlite3\n",
    "import os\n",
    "import matplotlib\n",
    "matplotlib.style.use('seaborn-whitegrid')\n",
    "# display numbers (floats) with thousand separator\n",
    "pd.options.display.float_format = '{:,.0f}'.format\n",
    "\n",
    "# found this hack to format integers for display with thousand separator\n",
    "# https://stackoverflow.com/questions/29663252/format-pandas-integers-for-display?answertab=active#tab-top\n",
    "class IntArrayFormatter(pf.GenericArrayFormatter):\n",
    "    def _format_strings(self):\n",
    "        formatter = self.formatter or '{:,d}'.format\n",
    "        fmt_values = [formatter(x) for x in self.values]\n",
    "        return fmt_values\n",
    "pf.IntArrayFormatter = IntArrayFormatter"
   ]
  },
  {
   "cell_type": "code",
   "execution_count": 2,
   "metadata": {},
   "outputs": [],
   "source": [
    "#dir_path = os.getcwd()\n",
    "data_path=os.path.join('source_data')\n",
    "db='irs_migration_county.sqlite'\n",
    "data_csv=os.path.join(data_path,'total_filers','total_filers_nycmetro.csv') # Generated from create_total_filers.py\n",
    "\n",
    "nyc=('36005','36047','36061','36081','36085')\n",
    "nyma=('34003','34013','34017','34019','34023','34025','34027','34029','34031',\\\n",
    "      '34035','34037','34039','36005','36047','36059','36061',\\\n",
    "      '36079','36081','36085','36087','36103','36119','42103')\n",
    "\n",
    "years=['2011_12','2012_13','2013_14','2014_15','2015_16','2016_17','2017_18']"
   ]
  },
  {
   "cell_type": "code",
   "execution_count": 3,
   "metadata": {},
   "outputs": [
    {
     "data": {
      "text/html": [
       "<div>\n",
       "<style scoped>\n",
       "    .dataframe tbody tr th:only-of-type {\n",
       "        vertical-align: middle;\n",
       "    }\n",
       "\n",
       "    .dataframe tbody tr th {\n",
       "        vertical-align: top;\n",
       "    }\n",
       "\n",
       "    .dataframe thead th {\n",
       "        text-align: right;\n",
       "    }\n",
       "</style>\n",
       "<table border=\"1\" class=\"dataframe\">\n",
       "  <thead>\n",
       "    <tr style=\"text-align: right;\">\n",
       "      <th></th>\n",
       "      <th>year</th>\n",
       "      <th>fips</th>\n",
       "      <th>returns</th>\n",
       "      <th>exemptions</th>\n",
       "    </tr>\n",
       "  </thead>\n",
       "  <tbody>\n",
       "    <tr>\n",
       "      <th>0</th>\n",
       "      <td>2011_12</td>\n",
       "      <td>34003</td>\n",
       "      <td>371,057</td>\n",
       "      <td>807,049</td>\n",
       "    </tr>\n",
       "    <tr>\n",
       "      <th>1</th>\n",
       "      <td>2011_12</td>\n",
       "      <td>34013</td>\n",
       "      <td>295,175</td>\n",
       "      <td>626,910</td>\n",
       "    </tr>\n",
       "    <tr>\n",
       "      <th>2</th>\n",
       "      <td>2011_12</td>\n",
       "      <td>34017</td>\n",
       "      <td>263,118</td>\n",
       "      <td>503,759</td>\n",
       "    </tr>\n",
       "    <tr>\n",
       "      <th>3</th>\n",
       "      <td>2011_12</td>\n",
       "      <td>34019</td>\n",
       "      <td>51,835</td>\n",
       "      <td>116,546</td>\n",
       "    </tr>\n",
       "    <tr>\n",
       "      <th>4</th>\n",
       "      <td>2011_12</td>\n",
       "      <td>34023</td>\n",
       "      <td>324,297</td>\n",
       "      <td>720,522</td>\n",
       "    </tr>\n",
       "  </tbody>\n",
       "</table>\n",
       "</div>"
      ],
      "text/plain": [
       "      year   fips  returns  exemptions\n",
       "0  2011_12  34003  371,057     807,049\n",
       "1  2011_12  34013  295,175     626,910\n",
       "2  2011_12  34017  263,118     503,759\n",
       "3  2011_12  34019   51,835     116,546\n",
       "4  2011_12  34023  324,297     720,522"
      ]
     },
     "execution_count": 3,
     "metadata": {},
     "output_type": "execute_result"
    }
   ],
   "source": [
    "#Get sum of filers in the migration db for NY metro by grouping non-movers and in-migrants\n",
    "con=sqlite3.connect(os.path.join (data_path, db))\n",
    "df_nymetmig = pd.DataFrame()\n",
    "\n",
    "for year in years:\n",
    "    tab='inflow_{}'.format(year)\n",
    "    mtotal = pd.read_sql_query('SELECT \"{}\" AS year, destination AS fips, \\\n",
    "    sum(returns) AS returns,sum(exemptions) AS exemptions \\\n",
    "    FROM {} where destination in {} GROUP BY destination'.format(year,tab,nyma),con)\n",
    "    df_nymetmig=df_nymetmig.append(mtotal,ignore_index=True)\n",
    "    \n",
    "con.close()\n",
    "df_nymetmig.head()"
   ]
  },
  {
   "cell_type": "code",
   "execution_count": 4,
   "metadata": {},
   "outputs": [
    {
     "data": {
      "text/html": [
       "<div>\n",
       "<style scoped>\n",
       "    .dataframe tbody tr th:only-of-type {\n",
       "        vertical-align: middle;\n",
       "    }\n",
       "\n",
       "    .dataframe tbody tr th {\n",
       "        vertical-align: top;\n",
       "    }\n",
       "\n",
       "    .dataframe thead th {\n",
       "        text-align: right;\n",
       "    }\n",
       "</style>\n",
       "<table border=\"1\" class=\"dataframe\">\n",
       "  <thead>\n",
       "    <tr style=\"text-align: right;\">\n",
       "      <th></th>\n",
       "      <th>fips</th>\n",
       "      <th>cname</th>\n",
       "      <th>state</th>\n",
       "      <th>year</th>\n",
       "      <th>returns</th>\n",
       "      <th>exempts</th>\n",
       "    </tr>\n",
       "  </thead>\n",
       "  <tbody>\n",
       "    <tr>\n",
       "      <th>0</th>\n",
       "      <td>34003</td>\n",
       "      <td>Bergen County</td>\n",
       "      <td>NJ</td>\n",
       "      <td>2011_12</td>\n",
       "      <td>454,847</td>\n",
       "      <td>883,358</td>\n",
       "    </tr>\n",
       "    <tr>\n",
       "      <th>1</th>\n",
       "      <td>34003</td>\n",
       "      <td>Bergen County</td>\n",
       "      <td>NJ</td>\n",
       "      <td>2012_13</td>\n",
       "      <td>454,440</td>\n",
       "      <td>881,200</td>\n",
       "    </tr>\n",
       "    <tr>\n",
       "      <th>2</th>\n",
       "      <td>34003</td>\n",
       "      <td>Bergen County</td>\n",
       "      <td>NJ</td>\n",
       "      <td>2013_14</td>\n",
       "      <td>458,750</td>\n",
       "      <td>885,960</td>\n",
       "    </tr>\n",
       "    <tr>\n",
       "      <th>3</th>\n",
       "      <td>34003</td>\n",
       "      <td>Bergen County</td>\n",
       "      <td>NJ</td>\n",
       "      <td>2014_15</td>\n",
       "      <td>460,500</td>\n",
       "      <td>883,710</td>\n",
       "    </tr>\n",
       "    <tr>\n",
       "      <th>4</th>\n",
       "      <td>34003</td>\n",
       "      <td>Bergen County</td>\n",
       "      <td>NJ</td>\n",
       "      <td>2015_16</td>\n",
       "      <td>464,930</td>\n",
       "      <td>887,760</td>\n",
       "    </tr>\n",
       "  </tbody>\n",
       "</table>\n",
       "</div>"
      ],
      "text/plain": [
       "    fips          cname state     year  returns  exempts\n",
       "0  34003  Bergen County    NJ  2011_12  454,847  883,358\n",
       "1  34003  Bergen County    NJ  2012_13  454,440  881,200\n",
       "2  34003  Bergen County    NJ  2013_14  458,750  885,960\n",
       "3  34003  Bergen County    NJ  2014_15  460,500  883,710\n",
       "4  34003  Bergen County    NJ  2015_16  464,930  887,760"
      ]
     },
     "execution_count": 4,
     "metadata": {},
     "output_type": "execute_result"
    }
   ],
   "source": [
    "#Get total number of all filers from IRS report csv\n",
    "\n",
    "df_totalfiler=pd.read_csv((data_csv),converters={'fips':str})\n",
    "df_totalfiler.head()"
   ]
  },
  {
   "cell_type": "code",
   "execution_count": 5,
   "metadata": {
    "scrolled": true
   },
   "outputs": [
    {
     "data": {
      "text/html": [
       "<div>\n",
       "<style scoped>\n",
       "    .dataframe tbody tr th:only-of-type {\n",
       "        vertical-align: middle;\n",
       "    }\n",
       "\n",
       "    .dataframe tbody tr th {\n",
       "        vertical-align: top;\n",
       "    }\n",
       "\n",
       "    .dataframe thead th {\n",
       "        text-align: right;\n",
       "    }\n",
       "</style>\n",
       "<table border=\"1\" class=\"dataframe\">\n",
       "  <thead>\n",
       "    <tr style=\"text-align: right;\">\n",
       "      <th></th>\n",
       "      <th>fips</th>\n",
       "      <th>cname</th>\n",
       "      <th>state</th>\n",
       "      <th>year</th>\n",
       "      <th>totreturns</th>\n",
       "      <th>totexempts</th>\n",
       "      <th>migreturns</th>\n",
       "      <th>migexempts</th>\n",
       "    </tr>\n",
       "  </thead>\n",
       "  <tbody>\n",
       "    <tr>\n",
       "      <th>0</th>\n",
       "      <td>34003</td>\n",
       "      <td>Bergen County</td>\n",
       "      <td>NJ</td>\n",
       "      <td>2011_12</td>\n",
       "      <td>454,847</td>\n",
       "      <td>883,358</td>\n",
       "      <td>371,057</td>\n",
       "      <td>807,049</td>\n",
       "    </tr>\n",
       "    <tr>\n",
       "      <th>1</th>\n",
       "      <td>34003</td>\n",
       "      <td>Bergen County</td>\n",
       "      <td>NJ</td>\n",
       "      <td>2012_13</td>\n",
       "      <td>454,440</td>\n",
       "      <td>881,200</td>\n",
       "      <td>371,821</td>\n",
       "      <td>808,887</td>\n",
       "    </tr>\n",
       "    <tr>\n",
       "      <th>2</th>\n",
       "      <td>34003</td>\n",
       "      <td>Bergen County</td>\n",
       "      <td>NJ</td>\n",
       "      <td>2013_14</td>\n",
       "      <td>458,750</td>\n",
       "      <td>885,960</td>\n",
       "      <td>372,107</td>\n",
       "      <td>806,932</td>\n",
       "    </tr>\n",
       "    <tr>\n",
       "      <th>3</th>\n",
       "      <td>34003</td>\n",
       "      <td>Bergen County</td>\n",
       "      <td>NJ</td>\n",
       "      <td>2014_15</td>\n",
       "      <td>460,500</td>\n",
       "      <td>883,710</td>\n",
       "      <td>374,761</td>\n",
       "      <td>806,453</td>\n",
       "    </tr>\n",
       "    <tr>\n",
       "      <th>4</th>\n",
       "      <td>34003</td>\n",
       "      <td>Bergen County</td>\n",
       "      <td>NJ</td>\n",
       "      <td>2015_16</td>\n",
       "      <td>464,930</td>\n",
       "      <td>887,760</td>\n",
       "      <td>379,042</td>\n",
       "      <td>811,700</td>\n",
       "    </tr>\n",
       "  </tbody>\n",
       "</table>\n",
       "</div>"
      ],
      "text/plain": [
       "    fips          cname state     year  totreturns  totexempts  migreturns  \\\n",
       "0  34003  Bergen County    NJ  2011_12     454,847     883,358     371,057   \n",
       "1  34003  Bergen County    NJ  2012_13     454,440     881,200     371,821   \n",
       "2  34003  Bergen County    NJ  2013_14     458,750     885,960     372,107   \n",
       "3  34003  Bergen County    NJ  2014_15     460,500     883,710     374,761   \n",
       "4  34003  Bergen County    NJ  2015_16     464,930     887,760     379,042   \n",
       "\n",
       "   migexempts  \n",
       "0     807,049  \n",
       "1     808,887  \n",
       "2     806,932  \n",
       "3     806,453  \n",
       "4     811,700  "
      ]
     },
     "execution_count": 5,
     "metadata": {},
     "output_type": "execute_result"
    }
   ],
   "source": [
    "#Join the two tables together\n",
    "joined=pd.merge(df_totalfiler, df_nymetmig, on=['fips','year'])\n",
    "joined.rename(columns={'returns_x':'totreturns','exempts':'totexempts',\n",
    "                       'returns_y':'migreturns','exemptions':'migexempts'},inplace=True)\n",
    "\n",
    "joined.head()"
   ]
  },
  {
   "cell_type": "code",
   "execution_count": 6,
   "metadata": {},
   "outputs": [
    {
     "data": {
      "text/html": [
       "<div>\n",
       "<style scoped>\n",
       "    .dataframe tbody tr th:only-of-type {\n",
       "        vertical-align: middle;\n",
       "    }\n",
       "\n",
       "    .dataframe tbody tr th {\n",
       "        vertical-align: top;\n",
       "    }\n",
       "\n",
       "    .dataframe thead th {\n",
       "        text-align: right;\n",
       "    }\n",
       "</style>\n",
       "<table border=\"1\" class=\"dataframe\">\n",
       "  <thead>\n",
       "    <tr style=\"text-align: right;\">\n",
       "      <th></th>\n",
       "      <th>year</th>\n",
       "      <th>migreturns</th>\n",
       "      <th>totreturns</th>\n",
       "      <th>migexempts</th>\n",
       "      <th>totexempts</th>\n",
       "      <th>pct_returns</th>\n",
       "      <th>pct_exempts</th>\n",
       "    </tr>\n",
       "  </thead>\n",
       "  <tbody>\n",
       "    <tr>\n",
       "      <th>0</th>\n",
       "      <td>2011_12</td>\n",
       "      <td>7,599,159</td>\n",
       "      <td>9,336,966</td>\n",
       "      <td>15,752,533</td>\n",
       "      <td>17,636,386</td>\n",
       "      <td>81</td>\n",
       "      <td>89</td>\n",
       "    </tr>\n",
       "    <tr>\n",
       "      <th>1</th>\n",
       "      <td>2012_13</td>\n",
       "      <td>7,618,283</td>\n",
       "      <td>9,318,830</td>\n",
       "      <td>15,778,651</td>\n",
       "      <td>17,595,000</td>\n",
       "      <td>82</td>\n",
       "      <td>90</td>\n",
       "    </tr>\n",
       "    <tr>\n",
       "      <th>2</th>\n",
       "      <td>2013_14</td>\n",
       "      <td>7,652,613</td>\n",
       "      <td>9,418,000</td>\n",
       "      <td>15,792,187</td>\n",
       "      <td>17,692,060</td>\n",
       "      <td>81</td>\n",
       "      <td>89</td>\n",
       "    </tr>\n",
       "    <tr>\n",
       "      <th>3</th>\n",
       "      <td>2014_15</td>\n",
       "      <td>7,753,212</td>\n",
       "      <td>9,504,470</td>\n",
       "      <td>15,864,946</td>\n",
       "      <td>17,728,530</td>\n",
       "      <td>82</td>\n",
       "      <td>90</td>\n",
       "    </tr>\n",
       "    <tr>\n",
       "      <th>4</th>\n",
       "      <td>2015_16</td>\n",
       "      <td>7,866,587</td>\n",
       "      <td>9,616,530</td>\n",
       "      <td>15,977,643</td>\n",
       "      <td>17,809,210</td>\n",
       "      <td>82</td>\n",
       "      <td>90</td>\n",
       "    </tr>\n",
       "    <tr>\n",
       "      <th>5</th>\n",
       "      <td>2016_17</td>\n",
       "      <td>7,940,799</td>\n",
       "      <td>9,609,300</td>\n",
       "      <td>15,978,525</td>\n",
       "      <td>17,689,650</td>\n",
       "      <td>83</td>\n",
       "      <td>90</td>\n",
       "    </tr>\n",
       "    <tr>\n",
       "      <th>6</th>\n",
       "      <td>2017_18</td>\n",
       "      <td>8,034,041</td>\n",
       "      <td>9,731,180</td>\n",
       "      <td>16,045,088</td>\n",
       "      <td>17,790,740</td>\n",
       "      <td>83</td>\n",
       "      <td>90</td>\n",
       "    </tr>\n",
       "  </tbody>\n",
       "</table>\n",
       "</div>"
      ],
      "text/plain": [
       "      year  migreturns  totreturns  migexempts  totexempts  pct_returns  \\\n",
       "0  2011_12   7,599,159   9,336,966  15,752,533  17,636,386           81   \n",
       "1  2012_13   7,618,283   9,318,830  15,778,651  17,595,000           82   \n",
       "2  2013_14   7,652,613   9,418,000  15,792,187  17,692,060           81   \n",
       "3  2014_15   7,753,212   9,504,470  15,864,946  17,728,530           82   \n",
       "4  2015_16   7,866,587   9,616,530  15,977,643  17,809,210           82   \n",
       "5  2016_17   7,940,799   9,609,300  15,978,525  17,689,650           83   \n",
       "6  2017_18   8,034,041   9,731,180  16,045,088  17,790,740           83   \n",
       "\n",
       "   pct_exempts  \n",
       "0           89  \n",
       "1           90  \n",
       "2           89  \n",
       "3           90  \n",
       "4           90  \n",
       "5           90  \n",
       "6           90  "
      ]
     },
     "execution_count": 6,
     "metadata": {},
     "output_type": "execute_result"
    }
   ],
   "source": [
    "#Generate summaries and calculate percentages for the NY metro area\n",
    "nyma_matched=joined[['year','migreturns','totreturns','migexempts','totexempts']].groupby(['year']).sum().reset_index()\n",
    "nyma_matched['pct_returns']=((nyma_matched.migreturns / nyma_matched.totreturns)*100).round(1)\n",
    "nyma_matched['pct_exempts']=((nyma_matched.migexempts / nyma_matched.totexempts)*100).round(1)\n",
    "\n",
    "nyma_matched"
   ]
  },
  {
   "cell_type": "code",
   "execution_count": 7,
   "metadata": {},
   "outputs": [
    {
     "data": {
      "text/plain": [
       "migreturns    54,464,694\n",
       "totreturns    66,535,276\n",
       "migexempts   111,189,573\n",
       "totexempts   123,941,576\n",
       "dtype: float64"
      ]
     },
     "execution_count": 7,
     "metadata": {},
     "output_type": "execute_result"
    }
   ],
   "source": [
    "nyma_matched.iloc[:,1:5].sum()"
   ]
  },
  {
   "cell_type": "code",
   "execution_count": 8,
   "metadata": {},
   "outputs": [
    {
     "data": {
      "text/plain": [
       "81.9"
      ]
     },
     "execution_count": 8,
     "metadata": {},
     "output_type": "execute_result"
    }
   ],
   "source": [
    "nyma_pct_totreturns=((nyma_matched.loc[:,'migreturns'].sum()/nyma_matched.loc[:,'totreturns'].sum())*100).round(1)\n",
    "nyma_pct_totreturns"
   ]
  },
  {
   "cell_type": "code",
   "execution_count": 9,
   "metadata": {},
   "outputs": [
    {
     "data": {
      "text/plain": [
       "89.7"
      ]
     },
     "execution_count": 9,
     "metadata": {},
     "output_type": "execute_result"
    }
   ],
   "source": [
    "nyma_pct_totexempts=((nyma_matched.loc[:,'migexempts'].sum()/nyma_matched.loc[:,'totexempts'].sum())*100).round(1)\n",
    "nyma_pct_totexempts"
   ]
  },
  {
   "cell_type": "code",
   "execution_count": 10,
   "metadata": {},
   "outputs": [
    {
     "data": {
      "text/html": [
       "<div>\n",
       "<style scoped>\n",
       "    .dataframe tbody tr th:only-of-type {\n",
       "        vertical-align: middle;\n",
       "    }\n",
       "\n",
       "    .dataframe tbody tr th {\n",
       "        vertical-align: top;\n",
       "    }\n",
       "\n",
       "    .dataframe thead th {\n",
       "        text-align: right;\n",
       "    }\n",
       "</style>\n",
       "<table border=\"1\" class=\"dataframe\">\n",
       "  <thead>\n",
       "    <tr style=\"text-align: right;\">\n",
       "      <th></th>\n",
       "      <th>year</th>\n",
       "      <th>migreturns</th>\n",
       "      <th>totreturns</th>\n",
       "      <th>migexempts</th>\n",
       "      <th>totexempts</th>\n",
       "      <th>pct_returns</th>\n",
       "      <th>pct_exempts</th>\n",
       "    </tr>\n",
       "  </thead>\n",
       "  <tbody>\n",
       "    <tr>\n",
       "      <th>0</th>\n",
       "      <td>2011_12</td>\n",
       "      <td>3,263,045</td>\n",
       "      <td>3,993,358</td>\n",
       "      <td>6,345,178</td>\n",
       "      <td>7,255,391</td>\n",
       "      <td>82</td>\n",
       "      <td>88</td>\n",
       "    </tr>\n",
       "    <tr>\n",
       "      <th>1</th>\n",
       "      <td>2012_13</td>\n",
       "      <td>3,272,696</td>\n",
       "      <td>3,974,160</td>\n",
       "      <td>6,370,755</td>\n",
       "      <td>7,247,540</td>\n",
       "      <td>82</td>\n",
       "      <td>88</td>\n",
       "    </tr>\n",
       "    <tr>\n",
       "      <th>2</th>\n",
       "      <td>2013_14</td>\n",
       "      <td>3,297,686</td>\n",
       "      <td>4,030,410</td>\n",
       "      <td>6,402,397</td>\n",
       "      <td>7,318,410</td>\n",
       "      <td>82</td>\n",
       "      <td>88</td>\n",
       "    </tr>\n",
       "    <tr>\n",
       "      <th>3</th>\n",
       "      <td>2014_15</td>\n",
       "      <td>3,364,504</td>\n",
       "      <td>4,089,180</td>\n",
       "      <td>6,485,295</td>\n",
       "      <td>7,381,290</td>\n",
       "      <td>82</td>\n",
       "      <td>88</td>\n",
       "    </tr>\n",
       "    <tr>\n",
       "      <th>4</th>\n",
       "      <td>2015_16</td>\n",
       "      <td>3,425,780</td>\n",
       "      <td>4,146,860</td>\n",
       "      <td>6,553,021</td>\n",
       "      <td>7,424,620</td>\n",
       "      <td>83</td>\n",
       "      <td>88</td>\n",
       "    </tr>\n",
       "    <tr>\n",
       "      <th>5</th>\n",
       "      <td>2016_17</td>\n",
       "      <td>3,452,859</td>\n",
       "      <td>4,136,210</td>\n",
       "      <td>6,536,163</td>\n",
       "      <td>7,347,810</td>\n",
       "      <td>84</td>\n",
       "      <td>89</td>\n",
       "    </tr>\n",
       "    <tr>\n",
       "      <th>6</th>\n",
       "      <td>2017_18</td>\n",
       "      <td>3,498,503</td>\n",
       "      <td>4,193,810</td>\n",
       "      <td>6,565,014</td>\n",
       "      <td>7,389,230</td>\n",
       "      <td>83</td>\n",
       "      <td>89</td>\n",
       "    </tr>\n",
       "  </tbody>\n",
       "</table>\n",
       "</div>"
      ],
      "text/plain": [
       "      year  migreturns  totreturns  migexempts  totexempts  pct_returns  \\\n",
       "0  2011_12   3,263,045   3,993,358   6,345,178   7,255,391           82   \n",
       "1  2012_13   3,272,696   3,974,160   6,370,755   7,247,540           82   \n",
       "2  2013_14   3,297,686   4,030,410   6,402,397   7,318,410           82   \n",
       "3  2014_15   3,364,504   4,089,180   6,485,295   7,381,290           82   \n",
       "4  2015_16   3,425,780   4,146,860   6,553,021   7,424,620           83   \n",
       "5  2016_17   3,452,859   4,136,210   6,536,163   7,347,810           84   \n",
       "6  2017_18   3,498,503   4,193,810   6,565,014   7,389,230           83   \n",
       "\n",
       "   pct_exempts  \n",
       "0           88  \n",
       "1           88  \n",
       "2           88  \n",
       "3           88  \n",
       "4           88  \n",
       "5           89  \n",
       "6           89  "
      ]
     },
     "execution_count": 10,
     "metadata": {},
     "output_type": "execute_result"
    }
   ],
   "source": [
    "#Generate summaries and calculate percentages for NYC\n",
    "nyc_matched=joined[joined['fips'].isin(nyc)][['year','migreturns','totreturns','migexempts','totexempts']].groupby(['year']).sum().reset_index()\n",
    "nyc_matched['pct_returns']=((nyc_matched.migreturns / nyc_matched.totreturns)*100).round(1)\n",
    "nyc_matched['pct_exempts']=((nyc_matched.migexempts / nyc_matched.totexempts)*100).round(1)\n",
    "\n",
    "nyc_matched"
   ]
  },
  {
   "cell_type": "code",
   "execution_count": 11,
   "metadata": {},
   "outputs": [
    {
     "data": {
      "text/plain": [
       "migreturns   23,575,073\n",
       "totreturns   28,563,988\n",
       "migexempts   45,257,823\n",
       "totexempts   51,364,291\n",
       "dtype: float64"
      ]
     },
     "execution_count": 11,
     "metadata": {},
     "output_type": "execute_result"
    }
   ],
   "source": [
    "nyc_matched.iloc[:,1:5].sum()"
   ]
  },
  {
   "cell_type": "code",
   "execution_count": 12,
   "metadata": {},
   "outputs": [
    {
     "data": {
      "text/plain": [
       "82.5"
      ]
     },
     "execution_count": 12,
     "metadata": {},
     "output_type": "execute_result"
    }
   ],
   "source": [
    "nyc_pct_totreturns=((nyc_matched.loc[:,'migreturns'].sum()/nyc_matched.loc[:,'totreturns'].sum())*100).round(1)\n",
    "nyc_pct_totreturns"
   ]
  },
  {
   "cell_type": "code",
   "execution_count": 13,
   "metadata": {},
   "outputs": [
    {
     "data": {
      "text/plain": [
       "88.1"
      ]
     },
     "execution_count": 13,
     "metadata": {},
     "output_type": "execute_result"
    }
   ],
   "source": [
    "nyc_pct_totexempts=((nyc_matched.loc[:,'migexempts'].sum()/nyc_matched.loc[:,'totexempts'].sum())*100).round(1)\n",
    "nyc_pct_totexempts"
   ]
  },
  {
   "cell_type": "code",
   "execution_count": 14,
   "metadata": {
    "scrolled": true
   },
   "outputs": [
    {
     "name": "stdout",
     "output_type": "stream",
     "text": [
      "\\begin{tabular}{llrrrrrr}\n",
      "\\toprule\n",
      "{} &     year &  migreturns &  totreturns &  migexempts &  totexempts &  pct\\_returns &  pct\\_exempts \\\\\n",
      "\\midrule\n",
      "0 &  2011\\_12 &   3,263,045 &   3,993,358 &   6,345,178 &   7,255,391 &           82 &           88 \\\\\n",
      "1 &  2012\\_13 &   3,272,696 &   3,974,160 &   6,370,755 &   7,247,540 &           82 &           88 \\\\\n",
      "2 &  2013\\_14 &   3,297,686 &   4,030,410 &   6,402,397 &   7,318,410 &           82 &           88 \\\\\n",
      "3 &  2014\\_15 &   3,364,504 &   4,089,180 &   6,485,295 &   7,381,290 &           82 &           88 \\\\\n",
      "4 &  2015\\_16 &   3,425,780 &   4,146,860 &   6,553,021 &   7,424,620 &           83 &           88 \\\\\n",
      "5 &  2016\\_17 &   3,452,859 &   4,136,210 &   6,536,163 &   7,347,810 &           84 &           89 \\\\\n",
      "6 &  2017\\_18 &   3,498,503 &   4,193,810 &   6,565,014 &   7,389,230 &           83 &           89 \\\\\n",
      "\\bottomrule\n",
      "\\end{tabular}\n",
      "\n"
     ]
    }
   ],
   "source": [
    "#LaTeX example NYC table\n",
    "print(nyc_matched.to_latex())"
   ]
  },
  {
   "cell_type": "code",
   "execution_count": 15,
   "metadata": {},
   "outputs": [
    {
     "data": {
      "text/plain": [
       "<matplotlib.legend.Legend at 0x7f271a27e710>"
      ]
     },
     "execution_count": 15,
     "metadata": {},
     "output_type": "execute_result"
    },
    {
     "data": {
      "image/png": "[encoded data removed]",
      "text/plain": [
       "<matplotlib.figure.Figure at 0x7f271c7cb860>"
      ]
     },
     "metadata": {},
     "output_type": "display_data"
    }
   ],
   "source": [
    "#Figure example NYC plot\n",
    "bchart=pd.DataFrame(nyc_matched.set_index(['year']), columns=['pct_returns','pct_exempts'])\n",
    "my_plot = bchart.plot(kind='bar',title=\"Total NYC Filers Included in Migration DB\",rot=0)\n",
    "my_plot.set_xlabel(\"Year\")\n",
    "my_plot.set_ylabel(\"% Total\")\n",
    "my_plot.legend([\"Returns\",\"Exemptions\"], loc=4,ncol=2)\n",
    "\n",
    "#fig = my_plot.get_figure()\n",
    "#fig.savefig('test_figure.png')"
   ]
  },
  {
   "cell_type": "code",
   "execution_count": null,
   "metadata": {},
   "outputs": [],
   "source": []
  }
 ],
 "metadata": {
  "kernelspec": {
   "display_name": "Python 3",
   "language": "python",
   "name": "python3"
  },
  "language_info": {
   "codemirror_mode": {
    "name": "ipython",
    "version": 3
   },
   "file_extension": ".py",
   "mimetype": "text/x-python",
   "name": "python",
   "nbconvert_exporter": "python",
   "pygments_lexer": "ipython3",
   "version": "3.6.9"
  }
 },
 "nbformat": 4,
 "nbformat_minor": 2
}
